{
 "cells": [
  {
   "cell_type": "code",
   "execution_count": 2,
   "metadata": {
    "id": "MvC4WbTlyXI1"
   },
   "outputs": [],
   "source": [
    "import tensorflow as tf\n",
    "from tensorflow import keras\n",
    "from keras.preprocessing.image import ImageDataGenerator\n",
    "from tensorflow.keras import models, layers\n",
    "from keras.models import Sequential\n",
    "from keras.layers import Convolution2D,MaxPooling2D,Dense,Flatten,BatchNormalization\n"
   ]
  },
  {
   "cell_type": "code",
   "execution_count": 4,
   "metadata": {
    "colab": {
     "base_uri": "https://localhost:8080/"
    },
    "id": "c68VY_MzmSYz",
    "outputId": "fc3491bb-1062-4bb7-dfaf-382b4f9c38dc"
   },
   "outputs": [
    {
     "name": "stdout",
     "output_type": "stream",
     "text": [
      "Drive already mounted at /content/drive; to attempt to forcibly remount, call drive.mount(\"/content/drive\", force_remount=True).\n"
     ]
    }
   ],
   "source": [
    "from google.colab import drive\n",
    "drive.mount('/content/drive')"
   ]
  },
  {
   "cell_type": "code",
   "execution_count": 5,
   "metadata": {
    "id": "fwFlF_wnmenF"
   },
   "outputs": [],
   "source": [
    "train_path='/content/drive/MyDrive/DLProject/data/train'\n",
    "test_path='/content/drive/MyDrive/DLProject/data/test'"
   ]
  },
  {
   "cell_type": "code",
   "execution_count": 36,
   "metadata": {
    "id": "4RAfgvslxpMm"
   },
   "outputs": [],
   "source": [
    "datagen = ImageDataGenerator(rescale = 1.0 / 255.0 )"
   ]
  },
  {
   "cell_type": "code",
   "execution_count": 37,
   "metadata": {
    "colab": {
     "base_uri": "https://localhost:8080/"
    },
    "id": "IMbafgUUnmV9",
    "outputId": "899968dd-cf0b-4715-c7d4-7216553ebee4"
   },
   "outputs": [
    {
     "name": "stdout",
     "output_type": "stream",
     "text": [
      "Found 40 images belonging to 2 classes.\n"
     ]
    }
   ],
   "source": [
    "training_set = datagen.flow_from_directory(train_path, class_mode = 'categorical')"
   ]
  },
  {
   "cell_type": "code",
   "execution_count": 39,
   "metadata": {
    "colab": {
     "base_uri": "https://localhost:8080/"
    },
    "id": "QDHd62SOn7h4",
    "outputId": "bd4be65e-b744-440f-9195-bda940d54363"
   },
   "outputs": [
    {
     "name": "stdout",
     "output_type": "stream",
     "text": [
      "Found 20 images belonging to 2 classes.\n"
     ]
    }
   ],
   "source": [
    "test_set = datagen.flow_from_directory(test_path, class_mode = 'categorical')"
   ]
  },
  {
   "cell_type": "markdown",
   "metadata": {
    "id": "qBGo_um_U-2f"
   },
   "source": [
    "The CNN model should have the following layers: \n",
    "● Input layer \n",
    "● Convolutional layer 1 with 32 filters of kernel size[5,5] \n",
    "● Pooling layer 1 with pool size[2,2] and stride 2 \n",
    "● Convolutional layer 2 with 64 filters of kernel size[5,5] \n",
    "● Pooling layer 2 with pool size[2,2] and stride 2 \n",
    "● Dense layer whose output size is fixed in the hyper parameter: fc_size=32 \n",
    "● Dropout layer with dropout probability 0.4 "
   ]
  },
  {
   "cell_type": "code",
   "execution_count": 40,
   "metadata": {
    "id": "QTE4mm0eUc1L"
   },
   "outputs": [],
   "source": [
    "model = models.Sequential()\n",
    "model.add( layers.Conv2D( 32, (5, 5 ), activation = 'relu', padding = 'same', input_shape = (256,  256 , 3 )))\n",
    "model.add(layers.MaxPooling2D(2,2))\n",
    "model.add(layers.Conv2D(64, (5, 5 ), activation = 'relu'))\n",
    "model.add(layers.MaxPooling2D((2,2)))\n",
    "model.add(layers.Dropout(0.4))\n",
    "model.add(layers.Flatten())\n",
    "model.add(layers.Dense(32, activation = 'relu'))\n",
    "model.add(layers.Dense(2, activation = 'softmax'))"
   ]
  },
  {
   "cell_type": "code",
   "execution_count": 9,
   "metadata": {
    "colab": {
     "base_uri": "https://localhost:8080/"
    },
    "id": "MZwOTerJhxdH",
    "outputId": "4d829d12-1a15-4fb0-e6e3-06e02438b4ab"
   },
   "outputs": [
    {
     "name": "stdout",
     "output_type": "stream",
     "text": [
      "Model: \"sequential\"\n",
      "_________________________________________________________________\n",
      " Layer (type)                Output Shape              Param #   \n",
      "=================================================================\n",
      " conv2d (Conv2D)             (None, 256, 256, 32)      2432      \n",
      "                                                                 \n",
      " max_pooling2d (MaxPooling2D  (None, 128, 128, 32)     0         \n",
      " )                                                               \n",
      "                                                                 \n",
      " conv2d_1 (Conv2D)           (None, 124, 124, 64)      51264     \n",
      "                                                                 \n",
      " max_pooling2d_1 (MaxPooling  (None, 62, 62, 64)       0         \n",
      " 2D)                                                             \n",
      "                                                                 \n",
      " dropout (Dropout)           (None, 62, 62, 64)        0         \n",
      "                                                                 \n",
      " flatten (Flatten)           (None, 246016)            0         \n",
      "                                                                 \n",
      " dense (Dense)               (None, 32)                7872544   \n",
      "                                                                 \n",
      " dense_1 (Dense)             (None, 2)                 66        \n",
      "                                                                 \n",
      "=================================================================\n",
      "Total params: 7,926,306\n",
      "Trainable params: 7,926,306\n",
      "Non-trainable params: 0\n",
      "_________________________________________________________________\n"
     ]
    }
   ],
   "source": [
    "model.summary()"
   ]
  },
  {
   "cell_type": "markdown",
   "metadata": {
    "id": "3WoupFqkeJ_7"
   },
   "source": [
    "For the training step, define the loss function and minimize it "
   ]
  },
  {
   "cell_type": "code",
   "execution_count": 47,
   "metadata": {
    "id": "-akOyEXSWz9C"
   },
   "outputs": [],
   "source": [
    "sgd_opt = tf.keras.optimizers.SGD(learning_rate = 0.001)"
   ]
  },
  {
   "cell_type": "markdown",
   "metadata": {
    "id": "7JMEev5EeXov"
   },
   "source": [
    "#compiling model "
   ]
  },
  {
   "cell_type": "code",
   "execution_count": 44,
   "metadata": {
    "id": "18rJ6sEKeOPn"
   },
   "outputs": [],
   "source": [
    "history=model.compile( optimizer=sgd_opt, loss = 'binary_crossentropy', metrics =  ['accuracy'])\n"
   ]
  },
  {
   "cell_type": "markdown",
   "metadata": {
    "id": "LLbxvo8qelHb"
   },
   "source": [
    "For the evaluation step, calculate the accuracy \n",
    "Run the program for 100, 200, and 300 iterations, respectively. Follow this by a report on the final accuracy and loss on the evaluation data. "
   ]
  },
  {
   "cell_type": "code",
   "execution_count": 48,
   "metadata": {
    "colab": {
     "base_uri": "https://localhost:8080/"
    },
    "id": "rlr4kcIReecL",
    "outputId": "1dca6688-1d4d-4cbe-fb9f-204c0d1991bc"
   },
   "outputs": [
    {
     "name": "stdout",
     "output_type": "stream",
     "text": [
      "Epoch 1/50\n",
      "2/2 [==============================] - 11s 10s/step - loss: 0.6676 - accuracy: 0.9250 - val_loss: 0.6923 - val_accuracy: 0.4500\n",
      "Epoch 2/50\n",
      "2/2 [==============================] - 10s 3s/step - loss: 0.6684 - accuracy: 0.9500 - val_loss: 0.6913 - val_accuracy: 0.5000\n",
      "Epoch 3/50\n",
      "2/2 [==============================] - 12s 3s/step - loss: 0.6660 - accuracy: 0.6750 - val_loss: 0.6909 - val_accuracy: 0.5500\n",
      "Epoch 4/50\n",
      "2/2 [==============================] - 13s 4s/step - loss: 0.6618 - accuracy: 0.7750 - val_loss: 0.6928 - val_accuracy: 0.5500\n",
      "Epoch 5/50\n",
      "2/2 [==============================] - 10s 7s/step - loss: 0.6576 - accuracy: 0.5500 - val_loss: 0.6916 - val_accuracy: 0.5500\n",
      "Epoch 6/50\n",
      "2/2 [==============================] - 11s 3s/step - loss: 0.6548 - accuracy: 0.7000 - val_loss: 0.6910 - val_accuracy: 0.5000\n",
      "Epoch 7/50\n",
      "2/2 [==============================] - 12s 5s/step - loss: 0.6562 - accuracy: 0.9000 - val_loss: 0.6930 - val_accuracy: 0.5000\n",
      "Epoch 8/50\n",
      "2/2 [==============================] - 11s 3s/step - loss: 0.6529 - accuracy: 0.7750 - val_loss: 0.6890 - val_accuracy: 0.5000\n",
      "Epoch 9/50\n",
      "2/2 [==============================] - 11s 9s/step - loss: 0.6483 - accuracy: 0.9250 - val_loss: 0.6916 - val_accuracy: 0.5500\n",
      "Epoch 10/50\n",
      "2/2 [==============================] - 11s 3s/step - loss: 0.6436 - accuracy: 0.9000 - val_loss: 0.6955 - val_accuracy: 0.4500\n",
      "Epoch 11/50\n",
      "2/2 [==============================] - 12s 5s/step - loss: 0.6460 - accuracy: 0.6250 - val_loss: 0.6900 - val_accuracy: 0.5500\n",
      "Epoch 12/50\n",
      "2/2 [==============================] - 11s 3s/step - loss: 0.6575 - accuracy: 0.5500 - val_loss: 0.6906 - val_accuracy: 0.5000\n",
      "Epoch 13/50\n",
      "2/2 [==============================] - 12s 11s/step - loss: 0.6479 - accuracy: 0.8000 - val_loss: 0.6911 - val_accuracy: 0.5000\n",
      "Epoch 14/50\n",
      "2/2 [==============================] - 11s 3s/step - loss: 0.6420 - accuracy: 0.8500 - val_loss: 0.6932 - val_accuracy: 0.5000\n",
      "Epoch 15/50\n",
      "2/2 [==============================] - 11s 9s/step - loss: 0.6544 - accuracy: 0.5000 - val_loss: 0.6935 - val_accuracy: 0.5000\n",
      "Epoch 16/50\n",
      "2/2 [==============================] - 11s 9s/step - loss: 0.6235 - accuracy: 0.7500 - val_loss: 0.6936 - val_accuracy: 0.4500\n",
      "Epoch 17/50\n",
      "2/2 [==============================] - 10s 9s/step - loss: 0.6171 - accuracy: 0.8500 - val_loss: 0.6946 - val_accuracy: 0.4500\n",
      "Epoch 18/50\n",
      "2/2 [==============================] - 11s 9s/step - loss: 0.6605 - accuracy: 0.6250 - val_loss: 0.7077 - val_accuracy: 0.5500\n",
      "Epoch 19/50\n",
      "2/2 [==============================] - 11s 4s/step - loss: 0.6357 - accuracy: 0.6750 - val_loss: 0.7008 - val_accuracy: 0.5000\n",
      "Epoch 20/50\n",
      "2/2 [==============================] - 11s 3s/step - loss: 0.6192 - accuracy: 0.6750 - val_loss: 0.6896 - val_accuracy: 0.4500\n",
      "Epoch 21/50\n",
      "2/2 [==============================] - 11s 3s/step - loss: 0.6030 - accuracy: 0.9500 - val_loss: 0.7190 - val_accuracy: 0.5000\n",
      "Epoch 22/50\n",
      "2/2 [==============================] - 11s 9s/step - loss: 0.5985 - accuracy: 0.8000 - val_loss: 0.6930 - val_accuracy: 0.5000\n",
      "Epoch 23/50\n",
      "2/2 [==============================] - 11s 9s/step - loss: 0.5828 - accuracy: 0.9750 - val_loss: 0.6956 - val_accuracy: 0.5500\n",
      "Epoch 24/50\n",
      "2/2 [==============================] - 10s 8s/step - loss: 0.6872 - accuracy: 0.5000 - val_loss: 0.7159 - val_accuracy: 0.5000\n",
      "Epoch 25/50\n",
      "2/2 [==============================] - 11s 3s/step - loss: 0.6200 - accuracy: 0.6750 - val_loss: 0.7106 - val_accuracy: 0.5500\n",
      "Epoch 26/50\n",
      "2/2 [==============================] - 11s 10s/step - loss: 0.6390 - accuracy: 0.4250 - val_loss: 0.6940 - val_accuracy: 0.5500\n",
      "Epoch 27/50\n",
      "2/2 [==============================] - 10s 9s/step - loss: 0.5720 - accuracy: 0.8750 - val_loss: 0.7017 - val_accuracy: 0.5000\n",
      "Epoch 28/50\n",
      "2/2 [==============================] - 10s 7s/step - loss: 0.5742 - accuracy: 0.8750 - val_loss: 0.7103 - val_accuracy: 0.4500\n",
      "Epoch 29/50\n",
      "2/2 [==============================] - 11s 9s/step - loss: 0.5521 - accuracy: 0.8250 - val_loss: 0.7151 - val_accuracy: 0.4500\n",
      "Epoch 30/50\n",
      "2/2 [==============================] - 9s 7s/step - loss: 0.6040 - accuracy: 0.6000 - val_loss: 0.6870 - val_accuracy: 0.4500\n",
      "Epoch 31/50\n",
      "2/2 [==============================] - 11s 8s/step - loss: 0.5281 - accuracy: 0.9250 - val_loss: 0.6954 - val_accuracy: 0.4500\n",
      "Epoch 32/50\n",
      "2/2 [==============================] - 11s 3s/step - loss: 0.5119 - accuracy: 0.9250 - val_loss: 0.7407 - val_accuracy: 0.5500\n",
      "Epoch 33/50\n",
      "2/2 [==============================] - 11s 5s/step - loss: 0.5509 - accuracy: 0.7000 - val_loss: 0.7005 - val_accuracy: 0.4500\n",
      "Epoch 34/50\n",
      "2/2 [==============================] - 12s 9s/step - loss: 0.5088 - accuracy: 0.8750 - val_loss: 0.7418 - val_accuracy: 0.4500\n",
      "Epoch 35/50\n",
      "2/2 [==============================] - 11s 8s/step - loss: 0.6034 - accuracy: 0.5500 - val_loss: 0.6853 - val_accuracy: 0.5000\n",
      "Epoch 36/50\n",
      "2/2 [==============================] - 12s 10s/step - loss: 0.5118 - accuracy: 0.8500 - val_loss: 0.6976 - val_accuracy: 0.4500\n",
      "Epoch 37/50\n",
      "2/2 [==============================] - 9s 7s/step - loss: 0.6975 - accuracy: 0.5750 - val_loss: 0.6939 - val_accuracy: 0.5000\n",
      "Epoch 38/50\n",
      "2/2 [==============================] - 11s 8s/step - loss: 0.4897 - accuracy: 0.9250 - val_loss: 0.6957 - val_accuracy: 0.4500\n",
      "Epoch 39/50\n",
      "2/2 [==============================] - 12s 5s/step - loss: 0.4670 - accuracy: 0.9500 - val_loss: 0.7075 - val_accuracy: 0.5500\n",
      "Epoch 40/50\n",
      "2/2 [==============================] - 11s 3s/step - loss: 0.4899 - accuracy: 0.7500 - val_loss: 0.6993 - val_accuracy: 0.6500\n",
      "Epoch 41/50\n",
      "2/2 [==============================] - 11s 5s/step - loss: 0.4379 - accuracy: 0.8250 - val_loss: 0.6812 - val_accuracy: 0.5500\n",
      "Epoch 42/50\n",
      "2/2 [==============================] - 11s 9s/step - loss: 0.4540 - accuracy: 0.8500 - val_loss: 0.7309 - val_accuracy: 0.5500\n",
      "Epoch 43/50\n",
      "2/2 [==============================] - 10s 8s/step - loss: 0.5113 - accuracy: 0.7000 - val_loss: 0.6893 - val_accuracy: 0.6500\n",
      "Epoch 44/50\n",
      "2/2 [==============================] - 10s 7s/step - loss: 0.4122 - accuracy: 0.9500 - val_loss: 0.6996 - val_accuracy: 0.5500\n",
      "Epoch 45/50\n",
      "2/2 [==============================] - 11s 3s/step - loss: 0.4059 - accuracy: 0.8750 - val_loss: 0.8657 - val_accuracy: 0.5000\n",
      "Epoch 46/50\n",
      "2/2 [==============================] - 9s 7s/step - loss: 0.4437 - accuracy: 0.7250 - val_loss: 0.8123 - val_accuracy: 0.5500\n",
      "Epoch 47/50\n",
      "2/2 [==============================] - 11s 3s/step - loss: 0.4605 - accuracy: 0.8250 - val_loss: 0.7447 - val_accuracy: 0.5000\n",
      "Epoch 48/50\n",
      "2/2 [==============================] - 11s 9s/step - loss: 0.3672 - accuracy: 0.8750 - val_loss: 0.6943 - val_accuracy: 0.5000\n",
      "Epoch 49/50\n",
      "2/2 [==============================] - 11s 5s/step - loss: 0.3409 - accuracy: 0.9750 - val_loss: 0.7189 - val_accuracy: 0.5000\n",
      "Epoch 50/50\n",
      "2/2 [==============================] - 11s 3s/step - loss: 0.3092 - accuracy: 0.9500 - val_loss: 0.6981 - val_accuracy: 0.5000\n"
     ]
    }
   ],
   "source": [
    "history =model.fit(training_set, validation_data =test_set, epochs =50)\n"
   ]
  },
  {
   "cell_type": "code",
   "execution_count": 49,
   "metadata": {
    "colab": {
     "base_uri": "https://localhost:8080/"
    },
    "id": "QcfKlxdNeqXI",
    "outputId": "c33fac20-9181-4940-a846-0b5745e56ba4"
   },
   "outputs": [
    {
     "name": "stdout",
     "output_type": "stream",
     "text": [
      "1/1 [==============================] - 1s 1s/step - loss: 0.6981 - accuracy: 0.5000\n"
     ]
    }
   ],
   "source": [
    "test_loss, test_accuracy = model.evaluate(test_set)"
   ]
  },
  {
   "cell_type": "code",
   "execution_count": 24,
   "metadata": {
    "colab": {
     "base_uri": "https://localhost:8080/"
    },
    "id": "qExB5CCX3rBZ",
    "outputId": "31bb4962-8456-4b86-fd41-082edeaf7dab"
   },
   "outputs": [
    {
     "data": {
      "text/plain": [
       "0.7832875847816467"
      ]
     },
     "execution_count": 24,
     "metadata": {},
     "output_type": "execute_result"
    }
   ],
   "source": [
    "test_loss"
   ]
  },
  {
   "cell_type": "code",
   "execution_count": null,
   "metadata": {
    "id": "l1KVlfY63xEX"
   },
   "outputs": [],
   "source": [
    "from matplotlib import pyplot as plt \n",
    "\n",
    "plt.plot(history.history['accuracy'])\n",
    "plt.plot(history.history['val_accuracy'])\n",
    "plt.title('Accuracy')\n",
    "plt.ylabel('accuracy')\n",
    "plt.xlabel('epochs')\n",
    "plt.legend(['train', 'test'], loc = 'upper right')\n",
    "plt.show()"
   ]
  },
  {
   "cell_type": "code",
   "execution_count": null,
   "metadata": {
    "id": "dQvn1xT14Anq"
   },
   "outputs": [],
   "source": [
    "history =model.fit(training_set, validation_data = test_set, epochs =200)\n"
   ]
  },
  {
   "cell_type": "code",
   "execution_count": null,
   "metadata": {
    "id": "AEvEc7e_Ioz6"
   },
   "outputs": [],
   "source": [
    "test_loss, test_accuracy = model.evaluate(test_set)"
   ]
  },
  {
   "cell_type": "code",
   "execution_count": null,
   "metadata": {
    "id": "CnsG0bzWwGMB"
   },
   "outputs": [],
   "source": [
    "from matplotlib import pyplot as plt \n",
    "\n",
    "plt.plot(history.history['accuracy'])\n",
    "plt.plot(history.history['val_accuracy'])\n",
    "plt.title('Accuracy')\n",
    "plt.ylabel('accuracy')\n",
    "plt.xlabel('epochs')\n",
    "plt.legend(['train', 'test'], loc = 'upper right')\n",
    "plt.show()"
   ]
  },
  {
   "cell_type": "code",
   "execution_count": null,
   "metadata": {
    "id": "RO-tLAAsI_wa"
   },
   "outputs": [],
   "source": [
    "history =model.fit(training_set, validation_data = test_set, epochs =200)\n"
   ]
  },
  {
   "cell_type": "code",
   "execution_count": null,
   "metadata": {
    "id": "dkkxLNj6JB_b"
   },
   "outputs": [],
   "source": [
    "test_loss, test_accuracy = model.evaluate(test_set)"
   ]
  },
  {
   "cell_type": "code",
   "execution_count": null,
   "metadata": {
    "id": "mrEq2-SVJDTL"
   },
   "outputs": [],
   "source": [
    "from matplotlib import pyplot as plt \n",
    "\n",
    "plt.plot(history.history['accuracy'])\n",
    "plt.plot(history.history['val_accuracy'])\n",
    "plt.title('Accuracy')\n",
    "plt.ylabel('accuracy')\n",
    "plt.xlabel('epochs')\n",
    "plt.legend(['train', 'test'], loc = 'upper right')\n",
    "plt.show()"
   ]
  }
 ],
 "metadata": {
  "colab": {
   "provenance": []
  },
  "kernelspec": {
   "display_name": "Python 3 (ipykernel)",
   "language": "python",
   "name": "python3"
  },
  "language_info": {
   "codemirror_mode": {
    "name": "ipython",
    "version": 3
   },
   "file_extension": ".py",
   "mimetype": "text/x-python",
   "name": "python",
   "nbconvert_exporter": "python",
   "pygments_lexer": "ipython3",
   "version": "3.9.7"
  }
 },
 "nbformat": 4,
 "nbformat_minor": 1
}
